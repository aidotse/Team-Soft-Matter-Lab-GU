{
 "cells": [
  {
   "cell_type": "markdown",
   "metadata": {},
   "source": [
    "# Example 2B - Training of virtual staining of brightfield images (40x)\n",
    "\n",
    "Example code to train a neural network to virtually stain brightfield images captured with the 40x magnification objective obtaining the corresponding images for nuclei, lipids and cytoplasm.\n",
    "\n",
    "This code can be easily adapted to train other virtual staining neural networks by changing the neural network and training parameters in section 1.1 and \n",
    "\n",
    "version 1.0 <br />\n",
    "15 November 2020 <br />\n",
    "Benjamin Midtvedt, Jesús Pineda Castro, Saga Helgadottir, Daniel Midtvedt & Giovanni Volpe <br />\n",
    "Soft Matter Lab @ GU <br />\n",
    "http://www.softmatterlab.org"
   ]
  },
  {
   "cell_type": "markdown",
   "metadata": {},
   "source": [
    "## 0. Imports\n",
    " \n",
    "Import all necessary packages. These include standard Python packages as well as the core of DeepTrack 2.0 (`deeptrack`) and some specialized classes for this virtual staining (`apido`)."
   ]
  },
  {
   "cell_type": "code",
   "execution_count": 1,
   "metadata": {},
   "outputs": [],
   "source": [
    "import os\n",
    "import glob\n",
    "import random\n",
    "import itertools\n",
    "from timeit import default_timer as timer\n",
    "\n",
    "import numpy as np\n",
    "from PIL import Image\n",
    "import matplotlib.pyplot as plt\n",
    "from tensorflow.keras.optimizers import Adam\n",
    "\n",
    "# DeepTrack 2.0 code\n",
    "import apido\n",
    "from apido import deeptrack as dt"
   ]
  },
  {
   "cell_type": "markdown",
   "metadata": {},
   "source": [
    "## 1. Define input and output\n",
    "\n",
    "Set constants to determine the input and output images"
   ]
  },
  {
   "cell_type": "markdown",
   "metadata": {},
   "source": [
    "### 1.1 Neural-network model parameters\n",
    "\n",
    "Parameters of the neural network model. These are:\n",
    "\n",
    "* `GENERATOR_BREADTH`: determines the width of the input image as `GENERATOR_BREADTH * 32` (e.g., `GENERATOR_BREADTH = 32` corresponds to an input image size `532`)\n",
    "\n",
    "* `GENERATOR_DEPTH`: Depth of the generator U-Net\n",
    "\n",
    "* `DISCRIMINATOR_DEPTH`: Depth of the discriminator convolutional encoder\n",
    "\n",
    "* `MAE_LOSS_WEIGHT`: the weighting of the MAE loss vs. the adversarial loss"
   ]
  },
  {
   "cell_type": "code",
   "execution_count": 2,
   "metadata": {},
   "outputs": [],
   "source": [
    "GENERATOR_BREADTH = 16\n",
    "GENERATOR_DEPTH = 5\n",
    "DISCRIMINATOR_DEPTH = 5\n",
    "MAE_LOSS_WEIGHT = 0.001\n",
    "EPOCHS = 500"
   ]
  },
  {
   "cell_type": "markdown",
   "metadata": {},
   "source": [
    "### 1.2 User-defined constants for loading data and saving model\n",
    "\n",
    "Constants defined by the user:\n",
    "\n",
    "* `DATASET_PATH`: Input path (not including the magnification folder)\n",
    "\n",
    "* `OUTPUT_PATH`: Output path (not including the magnication folder)"
   ]
  },
  {
   "cell_type": "code",
   "execution_count": 3,
   "metadata": {},
   "outputs": [],
   "source": [
    "DATASET_PATH = \"../astra_data_readonly/\" \n",
    "OUTPUT_PATH = \"./models/\"\n",
    "\n",
    "VALIDATION_WELLS_AND_SITES = [\n",
    "    (\"B04\", 4),\n",
    "    (\"C03\", 8),\n",
    "    (\"C02\", 8),\n",
    "    (\"C04\", 1),\n",
    "    (\"C02\", 5),\n",
    "    (\"B03\", 1),\n",
    "    (\"B03\", 4),\n",
    "    (\"B03\", 7),\n",
    "    (\"D04\", 5),\n",
    "    (\"C04\", 2),\n",
    "]"
   ]
  },
  {
   "cell_type": "markdown",
   "metadata": {},
   "source": [
    "### 1.3 Inferred constants\n",
    "\n",
    "Constants inferred from the user input"
   ]
  },
  {
   "cell_type": "code",
   "execution_count": 4,
   "metadata": {},
   "outputs": [],
   "source": [
    "MAGNIFICATION = \"40x\"\n",
    "file_name_struct = \"AssayPlate_Greiner_#655090_{0}_T0001F{1}L01A0{2}Z0{3}C0{2}.tif\"\n",
    "\n",
    "PATH_TO_OUTPUT = os.path.normpath(OUTPUT_PATH)"
   ]
  },
  {
   "cell_type": "markdown",
   "metadata": {},
   "source": [
    "Infer full path to dataset"
   ]
  },
  {
   "cell_type": "code",
   "execution_count": 5,
   "metadata": {},
   "outputs": [],
   "source": [
    "_glob_struct = os.path.join(DATASET_PATH, MAGNIFICATION + \"*/\")\n",
    "_glob_results = glob.glob(_glob_struct)\n",
    "\n",
    "if len(_glob_results) == 0:\n",
    "    raise ValueError(\"No path found matching glob {0}\".format(_glob_struct))\n",
    "elif len(_glob_results) > 1:\n",
    "    from warnings import warn\n",
    "    warn(\"Multiple paths found! Using {0}\".format(_glob_results[0]))\n",
    "\n",
    "PATH_TO_MAGNIFICATION = os.path.normpath(_glob_results[0])"
   ]
  },
  {
   "cell_type": "code",
   "execution_count": 6,
   "metadata": {},
   "outputs": [
    {
     "name": "stdout",
     "output_type": "stream",
     "text": [
      "Loading images from: \t ../astra_data_readonly/40x_images\n",
      "Saving results to: \t models\n"
     ]
    }
   ],
   "source": [
    "print(\"Loading images from: \\t\", PATH_TO_MAGNIFICATION)\n",
    "print(\"Saving results to: \\t\", PATH_TO_OUTPUT)"
   ]
  },
  {
   "cell_type": "markdown",
   "metadata": {},
   "source": [
    "## 2. Load train data\n",
    "\n",
    "We define a data pipeline for loading images from storage. This uses DeepTrack 2.0, and follows the structure of\n",
    "\n",
    "1. Load each z-slice of a well-site combination and concatenate them.\n",
    "2. Pad the volume such that the first two dimensions are multiples of 32 (required by the model).\n",
    "3. Correct for misalignment of the fluorescence channel and the brightfield channel (by a pre-calculated parametrization of the offset as a function of magnification and the site)."
   ]
  },
  {
   "cell_type": "markdown",
   "metadata": {},
   "source": [
    "### 2.1 Find all wells and sites\n",
    "\n",
    "We create an iterator over each well and site. `itertools.product` produces an iterator over each combination of its input. In this case, each site in each well."
   ]
  },
  {
   "cell_type": "code",
   "execution_count": 7,
   "metadata": {},
   "outputs": [],
   "source": [
    "wells_and_sites = list(\n",
    "    itertools.product(\n",
    "        [\"B03\", \"B04\", \"C02\", \"C03\", \"C04\", \"D02\", \"D03\", \"D04\"],\n",
    "        range(1, 9) \n",
    "    )\n",
    ")"
   ]
  },
  {
   "cell_type": "code",
   "execution_count": 8,
   "metadata": {},
   "outputs": [
    {
     "name": "stdout",
     "output_type": "stream",
     "text": [
      "Training on 54 images\n",
      "Validating on 10 images\n"
     ]
    }
   ],
   "source": [
    "random.seed(1)\n",
    "random.shuffle(wells_and_sites)\n",
    "\n",
    "training_set = [w_s_tuple for w_s_tuple in wells_and_sites if w_s_tuple not in VALIDATION_WELLS_AND_SITES]\n",
    "validation_set = VALIDATION_WELLS_AND_SITES\n",
    "\n",
    "print(\"Training on {0} images\".format(len(training_set)))\n",
    "print(\"Validating on {0} images\".format(len(validation_set)))"
   ]
  },
  {
   "cell_type": "markdown",
   "metadata": {},
   "source": [
    "### 2.2 The root feature\n",
    "\n",
    "We use DeepTrack 2.0 to define the data loader pipeline. The pipeline is a sequence of `features`, which perform computations, controlled by `properties`, which are defined when creating the features. (Note that we any property with any name and value to a feature; if a property is not used by the feature, we refer to it as a dummy property.)\n",
    "\n",
    "The feature `root` is a `DummyFeature`, which is just a container of dummy properties and does not perform any computations.\n",
    "It takes the following arguments:\n",
    "\n",
    "* `well_site_tuple` is a dummy property that cycles through the well-site combinations in `wells_and_sites`\n",
    "* `well` is a dummy property that extracts the well from the `well_site_tuple`\n",
    "* `site` is a dummy property that extracts the site from the `well_site_tuple`\n",
    "\n",
    "Note that `well` and `site` are functions that take `well_site_tuple` as argument. These are dependent properties, and DeepTrack 2.0 will automatically ensure that they receive the correct input."
   ]
  },
  {
   "cell_type": "code",
   "execution_count": 9,
   "metadata": {},
   "outputs": [],
   "source": [
    "training_iterator = itertools.cycle(training_set)\n",
    "validation_iterator = itertools.cycle(validation_set)\n",
    "\n",
    "def get_next_well_and_site(validation):\n",
    "    if validation:\n",
    "        return next(validation_iterator)\n",
    "    else:\n",
    "        return next(training_iterator)\n",
    "\n",
    "# Accepts a tuple of form (well, site), and returns the well\n",
    "def get_well_from_tuple(well_site_tuple):\n",
    "    return well_site_tuple[0]\n",
    "\n",
    "# Accepts a tuple of form (well, site), and returns the site as \n",
    "# a string formated to be of length 3.\n",
    "def get_site_from_tuple(well_site_tuple):\n",
    "    site_string = \"00\" + str(well_site_tuple[1])\n",
    "    return site_string[-3:]\n",
    "\n",
    "\n",
    "\n",
    "root = dt.DummyFeature(\n",
    "    well_site_tuple=get_next_well_and_site,           # On each update, root will grab the next value from this iterator\n",
    "    well=get_well_from_tuple,                         # Grabs the well from the well_site_tuple\n",
    "    site=get_site_from_tuple,                         # Grabs and formats the site from the well_site_tuple\n",
    ")"
   ]
  },
  {
   "cell_type": "markdown",
   "metadata": {},
   "source": [
    "### 2.3 The brightfield image loader\n",
    "\n",
    "We use `deeptrack.LoadImage` to load and concatenate a brightfield stack. It takes the following arguments:\n",
    "\n",
    "* `**root.properties` means that we take the properties of `root` (of importance `well` and `site`). The other properties of LoadImage will now depend on these.\n",
    "* `file_names` is a dummy property, which takes the current well and site as input, and creates a list of file names that we want to load.\n",
    "* `path` is a property used by `LoadImage` to determine which files to load. We calculate it by taking `file_names` as input and returning a list of paths using `os.path.join`.\n",
    "\n",
    "Since `path` is a list, `LoadImage` stacks the images along the last dimension, creating a shaped volume with dimensions (width, height, 7)."
   ]
  },
  {
   "cell_type": "code",
   "execution_count": 10,
   "metadata": {},
   "outputs": [],
   "source": [
    "brightfield_loader = dt.LoadImage(\n",
    "    **root.properties,\n",
    "    file_names=lambda well, site: [file_name_struct.format(well, site, 4, z) for z in range(1, 8)],\n",
    "    path=lambda file_names: [os.path.join(PATH_TO_MAGNIFICATION, file_name) for file_name in file_names],\n",
    ")"
   ]
  },
  {
   "cell_type": "markdown",
   "metadata": {},
   "source": [
    "### 2.4 The fluorescence image loader\n",
    "\n",
    "We use `deeptrack.LoadImage` to load and concatenate a fluorescence stack. It takes the following arguments:\n",
    "\n",
    "* `**root.properties` means that we take the properties of `root` (of importance `well` and `site`). The other properties of LoadImage will now depend on these.\n",
    "* `file_names` is a dummy property, which takes the current well and site as input, and creates a list of file names that we want to load.\n",
    "* `path` is a property used by `LoadImage` to determine which files to load. We calculate it by taking `file_names` as input and returning a list of paths using `os.path.join`.\n",
    "\n",
    "Since `path` is a list, `LoadImage` stacks the images along the last dimension, creating a shaped volume with dimensions (width, height, 3)."
   ]
  },
  {
   "cell_type": "code",
   "execution_count": 11,
   "metadata": {},
   "outputs": [],
   "source": [
    "fluorescence_loader = dt.LoadImage(\n",
    "    **root.properties,\n",
    "    file_names=lambda well, site: [file_name_struct.format(well, site, action, 1) for action in range(1, 4)],\n",
    "    path=lambda file_names: [os.path.join(PATH_TO_MAGNIFICATION, file_name) for file_name in file_names],\n",
    ")"
   ]
  },
  {
   "cell_type": "markdown",
   "metadata": {},
   "source": [
    "### 2.5 Offset adjustment\n",
    "\n",
    "Offset adjustments using affine transformations. The offset is parametrized as a function of the magnification and the site as described in the report.\n",
    "\n",
    "The properties are set as follows:\n",
    "* `translate` sets how much we translate the image in pixels. It is a tuple representing the (x, y) shift. We calculate it as a function of the angular position of the site within the well, with site 1 at angle 0.\n",
    "* `angle` is a dummy property that calculates the angle of the site in radians."
   ]
  },
  {
   "cell_type": "code",
   "execution_count": 12,
   "metadata": {},
   "outputs": [],
   "source": [
    "# Coefficients of the regression\n",
    "Bx = -0.03039\n",
    "Ax = 2.4922\n",
    "x = -0.9588\n",
    "By = -2.59577\n",
    "Ay = -0.16666\n",
    "y = 0.61792\n",
    "scale = 0.99958\n",
    "\n",
    "correct_offset = dt.Affine(\n",
    "    translate=lambda angle: (\n",
    "        (np.cos(angle) * Bx + np.sin(angle) * Ax + x) * -1, # Offset in x\n",
    "        (np.cos(angle) * By + np.sin(angle) * Ay + y) * -1, # Offset in y\n",
    "    ),\n",
    "    angle = lambda site: (int(site) - 1) * np.pi / 6,\n",
    "    scale=scale,\n",
    "    **root.properties,\n",
    ")"
   ]
  },
  {
   "cell_type": "markdown",
   "metadata": {},
   "source": [
    "### 2.6 Define augmentations\n",
    "\n",
    "We use three kinds of augmentations: Mirroring (`deeptrack.FlipLR`), Affine transformations (`deeptrack.ElasticTransformation`), and Distortions (`deeptrack.Crop`)"
   ]
  },
  {
   "cell_type": "code",
   "execution_count": 13,
   "metadata": {},
   "outputs": [],
   "source": [
    "flip = dt.FlipLR()\n",
    "\n",
    "affine = dt.Affine(\n",
    "    rotate=lambda: np.random.rand() * 2 * np.pi,\n",
    "    scale=lambda: np.random.rand() * 0.1 + 0.95,\n",
    "    shear=lambda: np.random.rand() * 0.05 - 0.025\n",
    ")\n",
    "\n",
    "distortion = dt.ElasticTransformation(\n",
    "    alpha=lambda: np.random.rand() * 80,\n",
    "    sigma=lambda: 7\n",
    ")\n",
    "\n",
    "corner = int(512 * (np.sqrt(2) - 1) / 2)\n",
    "cropping  = dt.Crop(\n",
    "    crop=(512, 512, None),\n",
    "    corner=(corner, corner, 0)\n",
    ")"
   ]
  },
  {
   "cell_type": "markdown",
   "metadata": {},
   "source": [
    "### 2.7 Create the pipeline \n",
    "\n",
    "We use the (`+`) operator to chain the features, defining the execution order. In DeepTrack 2.0, this means that the output of the feature on the left, is passed as the input to the feature on the right. This is done in the following steps:\n",
    "\n",
    "1. `corrected_brightfield` is generated by offsetting the `brightfield_loader`\n",
    "2. `data_pair` is created with input images and targets\n",
    "3. `augmented_data` are defined by using the augmentations as well as the cropping\n",
    "4. `validation_data` is created\n",
    "5. `dataset` is created"
   ]
  },
  {
   "cell_type": "code",
   "execution_count": 14,
   "metadata": {},
   "outputs": [],
   "source": [
    "corrected_brightfield = brightfield_loader + correct_offset\n",
    "\n",
    "data_pair = dt.Combine([corrected_brightfield, fluorescence_loader])\n",
    "\n",
    "padded_crop_size = int(512 * np.sqrt(2))\n",
    "\n",
    "cropped_data = dt.Crop(\n",
    "    data_pair,\n",
    "    crop=(padded_crop_size, padded_crop_size, None),\n",
    "    updates_per_reload=16,\n",
    "    corner=lambda: (*np.random.randint(0, 5000, size=2), 0),\n",
    ")\n",
    "\n",
    "augmented_data = cropped_data + flip + affine + distortion + cropping\n",
    "\n",
    "validation_data = data_pair + dt.PadToMultiplesOf(multiple=(32, 32, None))\n",
    "\n",
    "dataset = dt.ConditionalSetFeature(\n",
    "    on_true=validation_data,\n",
    "    on_false=augmented_data,\n",
    "    condition=\"is_validation\",\n",
    "    is_validation=lambda validation: validation\n",
    ") + dt.AsType(\"float64\")"
   ]
  },
  {
   "cell_type": "markdown",
   "metadata": {},
   "source": [
    "## 3. Define generator\n",
    "\n",
    "We use generators to interface DeepTrack 2.0 features with Keras training routines. In DeepTrack 2.0, we have defined some special generators that speed up training. Here, we will use `deeptrack.ContinuousGenerator`, which continuosly geenrate augmented training images and makes them available for training the neural network model."
   ]
  },
  {
   "cell_type": "code",
   "execution_count": 15,
   "metadata": {},
   "outputs": [],
   "source": [
    "generator = dt.generators.ContinuousGenerator(\n",
    "    dataset,\n",
    "    batch_function=lambda image: image[0],\n",
    "    label_function=lambda image: image[1],\n",
    "    batch_size=8,\n",
    "    min_data_size=100,\n",
    "    max_data_size=2000\n",
    ")"
   ]
  },
  {
   "cell_type": "markdown",
   "metadata": {},
   "source": [
    "## 4. Define model\n",
    "\n",
    "Here, we use a GAN with a U-Net generator and a convolutional encoder discriminator. The generator is trained on MSE of the GAN error and MAE of the pixel difference. The discriminator is trained using MSE loss.\n",
    "\n",
    "More details are provided in the report.\n",
    "\n",
    "We also compile the assembled GAN with metrics, which include feature-wise MAE."
   ]
  },
  {
   "cell_type": "code",
   "execution_count": 16,
   "metadata": {},
   "outputs": [],
   "source": [
    "GAN_generator = apido.generator(GENERATOR_BREADTH, GENERATOR_DEPTH)\n",
    "GAN_discriminator = apido.discriminator(DISCRIMINATOR_DEPTH)\n",
    "\n",
    "GAN = dt.models.cgan(\n",
    "    generator=GAN_generator,\n",
    "    discriminator=GAN_discriminator,\n",
    "    discriminator_loss=\"mse\",\n",
    "    discriminator_optimizer=Adam(lr=0.0002, beta_1=0.5),\n",
    "    assemble_loss=[\"mse\", \"mae\"],\n",
    "    assemble_optimizer=Adam(lr=0.0002, beta_1=0.5),\n",
    "    assemble_loss_weights=[\n",
    "        1 - MAE_LOSS_WEIGHT,\n",
    "        MAE_LOSS_WEIGHT\n",
    "    ],\n",
    ")\n",
    "\n",
    "GAN.compile(loss=\"mae\", metrics=apido.metrics(\"40x\"))"
   ]
  },
  {
   "cell_type": "markdown",
   "metadata": {},
   "source": [
    "## 5. Train model\n",
    "\n",
    "We execute the dataset pipeline, setting the option `validation` to be True in the update step. This toggles the ConditionalSetFeature to skip the augmentation, as well as making `root` draw the site-tuple from the validation set.\n",
    "\n",
    "Following this we initialize the generator using the `with` statements, which launches a thread to generate `min_data_size` samples before starting training. Finally `fit` starts the training."
   ]
  },
  {
   "cell_type": "code",
   "execution_count": null,
   "metadata": {},
   "outputs": [
    {
     "name": "stdout",
     "output_type": "stream",
     "text": [
      "Generating 100 / 100 samples before starting training\n",
      "Epoch 1/500\n",
      "12/12 [==============================] - 13s 1s/step - d_loss: 0.9435 - g_loss: 1.3070 - nuclei: 2.4105 - lipids: 1.5561 - cyto: 2.6612 - val_loss: 716.9133 - val_nuclei: 2.1402 - val_lipids: 1.2658 - val_cyto: 2.3784\n",
      "Epoch 2/500\n",
      "12/12 [==============================] - 4s 372ms/step - d_loss: 0.7121 - g_loss: 1.0342 - nuclei: 1.9694 - lipids: 1.1631 - cyto: 2.2490 - val_loss: 607.9236 - val_nuclei: 1.7365 - val_lipids: 1.0094 - val_cyto: 2.1734\n",
      "Epoch 3/500\n",
      "12/12 [==============================] - 4s 357ms/step - d_loss: 0.6480 - g_loss: 0.8946 - nuclei: 1.6602 - lipids: 0.9810 - cyto: 1.9695 - val_loss: 511.2737 - val_nuclei: 1.5531 - val_lipids: 0.8349 - val_cyto: 1.7919\n",
      "Epoch 4/500\n",
      "12/12 [==============================] - 4s 357ms/step - d_loss: 0.6111 - g_loss: 0.7836 - nuclei: 1.5130 - lipids: 0.8363 - cyto: 1.5635 - val_loss: 445.2680 - val_nuclei: 1.4072 - val_lipids: 0.7542 - val_cyto: 1.4835\n",
      "Epoch 5/500\n",
      "12/12 [==============================] - 4s 364ms/step - d_loss: 0.5879 - g_loss: 0.7139 - nuclei: 1.3897 - lipids: 0.7661 - cyto: 1.2935 - val_loss: 388.7863 - val_nuclei: 1.3391 - val_lipids: 0.6675 - val_cyto: 1.2077\n",
      "Epoch 6/500\n",
      "12/12 [==============================] - 4s 359ms/step - d_loss: 0.5797 - g_loss: 0.6533 - nuclei: 1.2974 - lipids: 0.6945 - cyto: 1.0778 - val_loss: 345.6624 - val_nuclei: 1.2697 - val_lipids: 0.6137 - val_cyto: 0.9906\n",
      "Epoch 7/500\n",
      "12/12 [==============================] - 4s 363ms/step - d_loss: 0.5564 - g_loss: 0.6056 - nuclei: 1.2112 - lipids: 0.6678 - cyto: 0.8961 - val_loss: 309.7882 - val_nuclei: 1.2005 - val_lipids: 0.5889 - val_cyto: 0.7857\n",
      "Epoch 8/500\n",
      "12/12 [==============================] - 4s 364ms/step - d_loss: 0.5424 - g_loss: 0.5629 - nuclei: 1.1445 - lipids: 0.6321 - cyto: 0.7418 - val_loss: 291.3555 - val_nuclei: 1.1207 - val_lipids: 0.5851 - val_cyto: 0.6896\n",
      "Epoch 9/500\n",
      "12/12 [==============================] - 4s 363ms/step - d_loss: 0.5179 - g_loss: 0.5168 - nuclei: 1.1029 - lipids: 0.5980 - cyto: 0.6136 - val_loss: 264.6707 - val_nuclei: 1.0776 - val_lipids: 0.5611 - val_cyto: 0.5406\n",
      "Epoch 10/500\n",
      "12/12 [==============================] - 4s 365ms/step - d_loss: 0.5095 - g_loss: 0.5046 - nuclei: 1.0885 - lipids: 0.6095 - cyto: 0.5265 - val_loss: 255.7502 - val_nuclei: 1.0586 - val_lipids: 0.5520 - val_cyto: 0.4937\n",
      "Epoch 11/500\n",
      "12/12 [==============================] - 4s 360ms/step - d_loss: 0.5062 - g_loss: 0.4910 - nuclei: 1.0531 - lipids: 0.5861 - cyto: 0.4676 - val_loss: 242.8532 - val_nuclei: 1.0294 - val_lipids: 0.5404 - val_cyto: 0.4287\n",
      "Epoch 12/500\n",
      "12/12 [==============================] - 4s 371ms/step - d_loss: 0.4990 - g_loss: 0.4745 - nuclei: 1.0376 - lipids: 0.5734 - cyto: 0.4234 - val_loss: 238.1455 - val_nuclei: 0.9984 - val_lipids: 0.5317 - val_cyto: 0.4236\n",
      "Epoch 13/500\n",
      "12/12 [==============================] - 4s 361ms/step - d_loss: 0.4879 - g_loss: 0.4633 - nuclei: 1.0203 - lipids: 0.5845 - cyto: 0.4129 - val_loss: 229.8263 - val_nuclei: 0.9923 - val_lipids: 0.5080 - val_cyto: 0.4003\n",
      "Epoch 14/500\n",
      "12/12 [==============================] - 4s 367ms/step - d_loss: 0.4726 - g_loss: 0.4461 - nuclei: 0.9936 - lipids: 0.5689 - cyto: 0.3867 - val_loss: 224.0951 - val_nuclei: 0.9985 - val_lipids: 0.4884 - val_cyto: 0.3795\n",
      "Epoch 15/500\n",
      "12/12 [==============================] - 4s 360ms/step - d_loss: 0.4612 - g_loss: 0.4267 - nuclei: 0.9881 - lipids: 0.5354 - cyto: 0.3651 - val_loss: 217.8998 - val_nuclei: 0.9843 - val_lipids: 0.4805 - val_cyto: 0.3511\n",
      "Epoch 16/500\n",
      "12/12 [==============================] - 4s 364ms/step - d_loss: 0.4623 - g_loss: 0.4283 - nuclei: 1.0058 - lipids: 0.5466 - cyto: 0.3536 - val_loss: 213.8284 - val_nuclei: 0.9674 - val_lipids: 0.4663 - val_cyto: 0.3522\n",
      "Epoch 17/500\n",
      "12/12 [==============================] - 4s 364ms/step - d_loss: 0.4712 - g_loss: 0.4336 - nuclei: 1.0129 - lipids: 0.5244 - cyto: 0.3441 - val_loss: 211.3268 - val_nuclei: 0.9617 - val_lipids: 0.4635 - val_cyto: 0.3401\n",
      "Epoch 18/500\n",
      "12/12 [==============================] - 4s 369ms/step - d_loss: 0.4537 - g_loss: 0.4136 - nuclei: 0.9674 - lipids: 0.5151 - cyto: 0.3349 - val_loss: 210.6763 - val_nuclei: 0.9586 - val_lipids: 0.4625 - val_cyto: 0.3376\n",
      "Epoch 19/500\n",
      "12/12 [==============================] - 4s 368ms/step - d_loss: 0.4534 - g_loss: 0.4108 - nuclei: 0.9773 - lipids: 0.5239 - cyto: 0.3305 - val_loss: 206.0636 - val_nuclei: 0.9437 - val_lipids: 0.4509 - val_cyto: 0.3295\n",
      "Epoch 20/500\n",
      "12/12 [==============================] - 4s 361ms/step - d_loss: 0.4435 - g_loss: 0.4049 - nuclei: 0.9596 - lipids: 0.5169 - cyto: 0.3266 - val_loss: 203.8635 - val_nuclei: 0.9476 - val_lipids: 0.4396 - val_cyto: 0.3275\n",
      "Epoch 21/500\n",
      "12/12 [==============================] - 4s 361ms/step - d_loss: 0.4401 - g_loss: 0.4009 - nuclei: 0.9617 - lipids: 0.5124 - cyto: 0.3262 - val_loss: 200.1270 - val_nuclei: 0.9389 - val_lipids: 0.4303 - val_cyto: 0.3169\n",
      "Epoch 22/500\n",
      "12/12 [==============================] - 5s 451ms/step - d_loss: 0.4579 - g_loss: 0.4154 - nuclei: 0.9985 - lipids: 0.5043 - cyto: 0.3169 - val_loss: 200.4319 - val_nuclei: 0.9341 - val_lipids: 0.4317 - val_cyto: 0.3205\n",
      "Epoch 23/500\n",
      "12/12 [==============================] - 4s 356ms/step - d_loss: 0.4507 - g_loss: 0.4012 - nuclei: 0.9362 - lipids: 0.4907 - cyto: 0.3053 - val_loss: 197.7718 - val_nuclei: 0.9429 - val_lipids: 0.4207 - val_cyto: 0.3110\n",
      "Epoch 24/500\n",
      "12/12 [==============================] - 4s 363ms/step - d_loss: 0.4376 - g_loss: 0.3886 - nuclei: 0.9701 - lipids: 0.4829 - cyto: 0.3017 - val_loss: 196.7669 - val_nuclei: 0.9369 - val_lipids: 0.4165 - val_cyto: 0.3133\n",
      "Epoch 25/500\n",
      "12/12 [==============================] - 4s 360ms/step - d_loss: 0.4287 - g_loss: 0.3795 - nuclei: 0.9497 - lipids: 0.4695 - cyto: 0.3038 - val_loss: 195.3193 - val_nuclei: 0.9301 - val_lipids: 0.4091 - val_cyto: 0.3169\n",
      "Epoch 26/500\n",
      "12/12 [==============================] - 4s 357ms/step - d_loss: 0.4269 - g_loss: 0.3813 - nuclei: 0.9433 - lipids: 0.4783 - cyto: 0.3064 - val_loss: 192.5412 - val_nuclei: 0.9256 - val_lipids: 0.4054 - val_cyto: 0.3039\n",
      "Epoch 27/500\n",
      "12/12 [==============================] - 4s 361ms/step - d_loss: 0.4339 - g_loss: 0.3847 - nuclei: 0.9549 - lipids: 0.4631 - cyto: 0.3020 - val_loss: 192.3449 - val_nuclei: 0.9276 - val_lipids: 0.4007 - val_cyto: 0.3083\n",
      "Epoch 28/500\n",
      "12/12 [==============================] - 4s 360ms/step - d_loss: 0.4338 - g_loss: 0.3816 - nuclei: 0.9305 - lipids: 0.4646 - cyto: 0.2971 - val_loss: 191.0651 - val_nuclei: 0.9214 - val_lipids: 0.4007 - val_cyto: 0.3022\n",
      "Epoch 29/500\n",
      "12/12 [==============================] - 4s 365ms/step - d_loss: 0.4242 - g_loss: 0.3775 - nuclei: 0.9693 - lipids: 0.4725 - cyto: 0.2991 - val_loss: 189.8935 - val_nuclei: 0.9143 - val_lipids: 0.3972 - val_cyto: 0.3025\n",
      "Epoch 30/500\n",
      "12/12 [==============================] - 4s 365ms/step - d_loss: 0.4190 - g_loss: 0.3697 - nuclei: 0.9464 - lipids: 0.4622 - cyto: 0.2925 - val_loss: 190.5057 - val_nuclei: 0.9271 - val_lipids: 0.3955 - val_cyto: 0.3030\n",
      "Epoch 31/500\n",
      " 7/12 [================>.............] - ETA: 1s - d_loss: 0.4260 - g_loss: 0.3761 - nuclei: 0.9652 - lipids: 0.4510 - cyto: 0.2928"
     ]
    }
   ],
   "source": [
    "validation_inputs = []\n",
    "validation_targets = []\n",
    "\n",
    "for _ in range(len(validation_set)):\n",
    "    data_tuple = dataset.update(validation=True).resolve()\n",
    "    validation_inputs.append(data_tuple[0])\n",
    "    validation_targets.append(data_tuple[1])\n",
    "\n",
    "\n",
    "with generator:\n",
    "    h = GAN.fit(\n",
    "        generator, \n",
    "        epochs=EPOCHS,\n",
    "        validation_data=(\n",
    "            np.array(validation_inputs),\n",
    "            np.array(validation_targets)\n",
    "        ),\n",
    "        validation_batch_size=4\n",
    "    )"
   ]
  },
  {
   "cell_type": "markdown",
   "metadata": {},
   "source": [
    "## 7. Visualize validation set\n",
    "\n",
    "We plot and show model predictions for each image in the validation set"
   ]
  },
  {
   "cell_type": "code",
   "execution_count": null,
   "metadata": {},
   "outputs": [],
   "source": [
    "prediction = GAN.generator.predict(np.array(generator[0][0]), batch_size=4)\n",
    "\n",
    "for brightfield, targets, prediction in zip(validation_inputs, validation_targets, prediction):\n",
    "    plt.figure(figsize=(15,5))\n",
    "    plt.subplot(1,3,1)\n",
    "    plt.imshow(brightfield[:, :, 0])\n",
    "    plt.axis(\"off\")\n",
    "    \n",
    "    plt.subplot(2,5,3)\n",
    "    plt.imshow(targets[:, :, 0])\n",
    "    plt.axis(\"off\")\n",
    "    plt.subplot(2,5,4)\n",
    "    plt.imshow(targets[:, :, 1])\n",
    "    plt.axis(\"off\")\n",
    "    plt.subplot(2,5,5)\n",
    "    plt.imshow(targets[:, :, 2])\n",
    "    plt.axis(\"off\")\n",
    "    \n",
    "    plt.subplot(2,5,8)\n",
    "    plt.imshow(prediction[:, :, 0])\n",
    "    plt.axis(\"off\")\n",
    "    plt.subplot(2,5,9)\n",
    "    plt.imshow(prediction[:, :, 1])\n",
    "    plt.axis(\"off\")\n",
    "    plt.subplot(2,5,10)\n",
    "    plt.imshow(prediction[:, :, 2])\n",
    "    plt.axis(\"off\")\n",
    "    plt.show()"
   ]
  },
  {
   "cell_type": "markdown",
   "metadata": {},
   "source": [
    "## 7. Save model\n",
    "\n",
    "We save the generator and the discriminator seperately. The folder is named after the current date, the user which is running the notebook, and the current magnification."
   ]
  },
  {
   "cell_type": "code",
   "execution_count": null,
   "metadata": {},
   "outputs": [],
   "source": [
    "folder_name = apido.get_checkpoint_name(\"60x\")\n",
    "\n",
    "# Save generator\n",
    "generator_checkpoint_path = os.path.join(PATH_TO_OUTPUT, folder_name, \"generator_checkpoint\")\n",
    "os.makedirs(generator_checkpoint_path, exist_ok=True)\n",
    "GAN.generator.save(generator_checkpoint_path)\n",
    "\n",
    "# Save discriminator\n",
    "discriminator_checkpoint_path = os.path.join(PATH_TO_OUTPUT, folder_name, \"discriminator_checkpoint\")\n",
    "os.makedirs(discriminator_checkpoint_path, exist_ok=True)\n",
    "GAN.discriminator.save(discriminator_checkpoint_path)"
   ]
  }
 ],
 "metadata": {
  "kernelspec": {
   "display_name": "Python 3",
   "language": "python",
   "name": "python3"
  },
  "language_info": {
   "codemirror_mode": {
    "name": "ipython",
    "version": 3
   },
   "file_extension": ".py",
   "mimetype": "text/x-python",
   "name": "python",
   "nbconvert_exporter": "python",
   "pygments_lexer": "ipython3",
   "version": "3.6.9"
  }
 },
 "nbformat": 4,
 "nbformat_minor": 4
}
